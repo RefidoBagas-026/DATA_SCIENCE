{
 "cells": [
  {
   "cell_type": "code",
   "execution_count": 1,
   "id": "c4be1872",
   "metadata": {},
   "outputs": [],
   "source": [
    "#1. Dataset\n",
    "from sklearn import datasets\n",
    "iris = datasets.load_iris()\n",
    "x = iris.data\n",
    "y = iris.target"
   ]
  },
  {
   "cell_type": "code",
   "execution_count": 2,
   "id": "91d702b6",
   "metadata": {},
   "outputs": [
    {
     "name": "stdout",
     "output_type": "stream",
     "text": [
      "Banyak data:  150\n"
     ]
    }
   ],
   "source": [
    "print(\"Banyak data: \",len(x))"
   ]
  },
  {
   "cell_type": "code",
   "execution_count": 3,
   "id": "f12cff43",
   "metadata": {},
   "outputs": [
    {
     "name": "stdout",
     "output_type": "stream",
     "text": [
      "15 data pertama: \n",
      "[[5.1 3.5 1.4 0.2]\n",
      " [4.9 3.  1.4 0.2]\n",
      " [4.7 3.2 1.3 0.2]\n",
      " [4.6 3.1 1.5 0.2]\n",
      " [5.  3.6 1.4 0.2]\n",
      " [5.4 3.9 1.7 0.4]\n",
      " [4.6 3.4 1.4 0.3]\n",
      " [5.  3.4 1.5 0.2]\n",
      " [4.4 2.9 1.4 0.2]\n",
      " [4.9 3.1 1.5 0.1]\n",
      " [5.4 3.7 1.5 0.2]\n",
      " [4.8 3.4 1.6 0.2]\n",
      " [4.8 3.  1.4 0.1]\n",
      " [4.3 3.  1.1 0.1]\n",
      " [5.8 4.  1.2 0.2]]\n"
     ]
    }
   ],
   "source": [
    "print('15 data pertama: ')\n",
    "print(x[:15])"
   ]
  },
  {
   "cell_type": "code",
   "execution_count": 4,
   "id": "68cd032a",
   "metadata": {},
   "outputs": [],
   "source": [
    "#2. Split data\n",
    "from sklearn.model_selection import train_test_split\n",
    "x_train, x_test, y_train, y_test = train_test_split(x,y,train_size = 0.7)"
   ]
  },
  {
   "cell_type": "code",
   "execution_count": 5,
   "id": "13a931e4",
   "metadata": {},
   "outputs": [
    {
     "name": "stdout",
     "output_type": "stream",
     "text": [
      "Banyak data latih:  105\n",
      "Banyak data latih:  45\n"
     ]
    }
   ],
   "source": [
    "print('Banyak data latih: ', len(x_train))\n",
    "print('Banyak data latih: ', len(x_test))"
   ]
  },
  {
   "cell_type": "code",
   "execution_count": 6,
   "id": "04400691",
   "metadata": {},
   "outputs": [
    {
     "name": "stdout",
     "output_type": "stream",
     "text": [
      "Akurasi svm setiap fold:  [0.96666667 1.         0.96666667 0.96666667 1.        ]\n",
      "Akurasi svm demgam lima fold:  <built-in method mean of numpy.ndarray object at 0x00000196DF92FBD0>\n"
     ]
    }
   ],
   "source": [
    "#K-Fold\n",
    "from sklearn.model_selection import cross_val_score\n",
    "from sklearn.svm import SVC\n",
    "\n",
    "model = SVC(kernel='linear', C=1)\n",
    "scores = cross_val_score(model,x,y,cv=5)\n",
    "print(\"Akurasi svm setiap fold: \",scores)\n",
    "print(\"Akurasi svm demgam lima fold: \",scores.mean)"
   ]
  },
  {
   "cell_type": "code",
   "execution_count": 7,
   "id": "804c0b24",
   "metadata": {},
   "outputs": [
    {
     "name": "stdout",
     "output_type": "stream",
     "text": [
      "Akurasi:  0.9777777777777777\n"
     ]
    }
   ],
   "source": [
    "#ujicoba model klasifikasi\n",
    "#1. KNN\n",
    "from sklearn.neighbors import KNeighborsClassifier\n",
    "from sklearn import metrics\n",
    "\n",
    "knn = KNeighborsClassifier()\n",
    "\n",
    "knn.fit(x_train, y_train)\n",
    "y_pred = knn.predict(x_test)\n",
    "score = metrics.accuracy_score(y_test,y_pred)\n",
    "print('Akurasi: ',score)"
   ]
  },
  {
   "cell_type": "code",
   "execution_count": 8,
   "id": "9ee410a8",
   "metadata": {},
   "outputs": [
    {
     "name": "stdout",
     "output_type": "stream",
     "text": [
      "Akurasi:  0.9555555555555556\n"
     ]
    }
   ],
   "source": [
    "#DTree\n",
    "from sklearn.tree import DecisionTreeClassifier\n",
    "from sklearn import metrics\n",
    "\n",
    "dt = DecisionTreeClassifier(max_depth = None, min_samples_split= 2)\n",
    "dt.fit(x_train, y_train)\n",
    "\n",
    "y_pred = dt.predict(x_test)\n",
    "score = metrics.accuracy_score(y_test,y_pred)\n",
    "print('Akurasi: ',score)"
   ]
  },
  {
   "cell_type": "code",
   "execution_count": 9,
   "id": "9394c8c8",
   "metadata": {},
   "outputs": [
    {
     "name": "stdout",
     "output_type": "stream",
     "text": [
      "Akurasi:  0.8888888888888888\n"
     ]
    }
   ],
   "source": [
    "#SVM\n",
    "from sklearn.svm import SVC\n",
    "from sklearn import metrics\n",
    "\n",
    "svm = SVC(kernel='rbf', C = 1, gamma = 0.01)\n",
    "svm.fit(x_train, y_train)\n",
    "y_pred = svm.predict(x_test)\n",
    "score = metrics.accuracy_score(y_test,y_pred)\n",
    "print('Akurasi: ',score)"
   ]
  },
  {
   "cell_type": "code",
   "execution_count": 10,
   "id": "2a6310ca",
   "metadata": {},
   "outputs": [
    {
     "name": "stdout",
     "output_type": "stream",
     "text": [
      "Akurasi:  0.9777777777777777\n"
     ]
    }
   ],
   "source": [
    "svmLinear = SVC(kernel='linear', C = 1)\n",
    "svmLinear.fit(x_train, y_train)\n",
    "y_pred = svmLinear.predict(x_test)\n",
    "score = metrics.accuracy_score(y_test,y_pred)\n",
    "print('Akurasi: ',score)"
   ]
  },
  {
   "cell_type": "code",
   "execution_count": 11,
   "id": "bff9a491",
   "metadata": {},
   "outputs": [
    {
     "name": "stdout",
     "output_type": "stream",
     "text": [
      "Akurasi:  0.9555555555555556\n"
     ]
    }
   ],
   "source": [
    "#4.  Logistic Regression\n",
    "from sklearn.linear_model import LogisticRegression\n",
    "from sklearn import metrics\n",
    "\n",
    "lr = LogisticRegression()\n",
    "lr.fit(x_train, y_train)\n",
    "y_pred = lr.predict(x_test)\n",
    "score = metrics.accuracy_score(y_test,y_pred)\n",
    "print('Akurasi: ',score)"
   ]
  },
  {
   "cell_type": "code",
   "execution_count": 12,
   "id": "4c1315f8",
   "metadata": {},
   "outputs": [
    {
     "name": "stdout",
     "output_type": "stream",
     "text": [
      "Akurasi:  0.24444444444444444\n"
     ]
    }
   ],
   "source": [
    "#5. Naive Bayes\n",
    "from sklearn.naive_bayes import BernoulliNB\n",
    "from sklearn import metrics\n",
    "\n",
    "nb = BernoulliNB()\n",
    "nb.fit(x_train, y_train)\n",
    "y_pred = nb.predict(x_test)\n",
    "score = metrics.accuracy_score(y_test,y_pred)\n",
    "print('Akurasi: ',score)"
   ]
  }
 ],
 "metadata": {
  "kernelspec": {
   "display_name": "Python 3 (ipykernel)",
   "language": "python",
   "name": "python3"
  },
  "language_info": {
   "codemirror_mode": {
    "name": "ipython",
    "version": 3
   },
   "file_extension": ".py",
   "mimetype": "text/x-python",
   "name": "python",
   "nbconvert_exporter": "python",
   "pygments_lexer": "ipython3",
   "version": "3.9.1"
  }
 },
 "nbformat": 4,
 "nbformat_minor": 5
}
